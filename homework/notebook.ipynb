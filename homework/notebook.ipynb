{
 "cells": [
  {
   "cell_type": "code",
   "execution_count": 1,
   "id": "05dd8d99",
   "metadata": {},
   "outputs": [],
   "source": [
    "import pandas as pd#type: ignore\n",
    "pd.set_option(\"display.notebook_repr_html\",False)"
   ]
  },
  {
   "cell_type": "code",
   "execution_count": null,
   "id": "7ab53851",
   "metadata": {},
   "outputs": [
    {
     "data": {
      "application/vnd.microsoft.datawrangler.viewer.v0+json": {
       "columns": [
        {
         "name": "index",
         "rawType": "int64",
         "type": "integer"
        },
        {
         "name": "driverId",
         "rawType": "int64",
         "type": "integer"
        },
        {
         "name": "truckId",
         "rawType": "int64",
         "type": "integer"
        },
        {
         "name": "eventTime",
         "rawType": "object",
         "type": "string"
        },
        {
         "name": "eventType",
         "rawType": "object",
         "type": "string"
        },
        {
         "name": "longitude",
         "rawType": "float64",
         "type": "float"
        },
        {
         "name": "latitude",
         "rawType": "float64",
         "type": "float"
        },
        {
         "name": "eventKey",
         "rawType": "object",
         "type": "string"
        },
        {
         "name": "CorrelationId",
         "rawType": "float64",
         "type": "float"
        },
        {
         "name": "driverName",
         "rawType": "object",
         "type": "string"
        },
        {
         "name": "routeId",
         "rawType": "int64",
         "type": "integer"
        },
        {
         "name": "routeName",
         "rawType": "object",
         "type": "string"
        },
        {
         "name": "eventDate",
         "rawType": "object",
         "type": "string"
        }
       ],
       "ref": "daa4080f-a3fe-4181-80db-2cb08b2ce301",
       "rows": [
        [
         "0",
         "14",
         "25",
         "59:21.4",
         "Normal",
         "-94.58",
         "37.03",
         "14|25|9223370572464814373",
         "3.66e+18",
         "Adis Cesir",
         "160405074",
         "Joplin to Kansas City Route 2",
         "2016-05-27-22"
        ],
        [
         "1",
         "18",
         "16",
         "59:21.7",
         "Normal",
         "-89.66",
         "39.78",
         "18|16|9223370572464814089",
         "3.66e+18",
         "Grant Liu",
         "1565885487",
         "Springfield to KC Via Hanibal",
         "2016-05-27-22"
        ],
        [
         "2",
         "27",
         "105",
         "59:21.7",
         "Normal",
         "-90.21",
         "38.65",
         "27|105|9223370572464814070",
         "3.66e+18",
         "Mark Lochbihler",
         "1325562373",
         "Springfield to KC Via Columbia Route 2",
         "2016-05-27-22"
        ],
        [
         "3",
         "11",
         "74",
         "59:21.7",
         "Normal",
         "-90.2",
         "38.65",
         "11|74|9223370572464814123",
         "3.66e+18",
         "Jamie Engesser",
         "1567254452",
         "Saint Louis to Memphis Route2",
         "2016-05-27-22"
        ],
        [
         "4",
         "22",
         "87",
         "59:21.7",
         "Normal",
         "-90.04",
         "35.19",
         "22|87|9223370572464814101",
         "3.66e+18",
         "Nadeem Asghar",
         "1198242881",
         " Saint Louis to Chicago Route2",
         "2016-05-27-22"
        ]
       ],
       "shape": {
        "columns": 12,
        "rows": 5
       }
      },
      "text/plain": [
       "   driverId  truckId eventTime eventType  longitude  latitude  \\\n",
       "0        14       25   59:21.4    Normal     -94.58     37.03   \n",
       "1        18       16   59:21.7    Normal     -89.66     39.78   \n",
       "2        27      105   59:21.7    Normal     -90.21     38.65   \n",
       "3        11       74   59:21.7    Normal     -90.20     38.65   \n",
       "4        22       87   59:21.7    Normal     -90.04     35.19   \n",
       "\n",
       "                     eventKey  CorrelationId       driverName     routeId  \\\n",
       "0   14|25|9223370572464814373   3.660000e+18       Adis Cesir   160405074   \n",
       "1   18|16|9223370572464814089   3.660000e+18        Grant Liu  1565885487   \n",
       "2  27|105|9223370572464814070   3.660000e+18  Mark Lochbihler  1325562373   \n",
       "3   11|74|9223370572464814123   3.660000e+18   Jamie Engesser  1567254452   \n",
       "4   22|87|9223370572464814101   3.660000e+18    Nadeem Asghar  1198242881   \n",
       "\n",
       "                                routeName      eventDate  \n",
       "0           Joplin to Kansas City Route 2  2016-05-27-22  \n",
       "1           Springfield to KC Via Hanibal  2016-05-27-22  \n",
       "2  Springfield to KC Via Columbia Route 2  2016-05-27-22  \n",
       "3           Saint Louis to Memphis Route2  2016-05-27-22  \n",
       "4           Saint Louis to Chicago Route2  2016-05-27-22  "
      ]
     },
     "execution_count": 2,
     "metadata": {},
     "output_type": "execute_result"
    }
   ],
   "source": [
    "#//read dataset from path\n",
    "trucks_events=pd.read_csv(\"../files/input/truck_event_text_partition.csv\")\n",
    "trucks_events.head()"
   ]
  },
  {
   "cell_type": "code",
   "execution_count": 3,
   "id": "985a2a8e",
   "metadata": {},
   "outputs": [
    {
     "data": {
      "text/plain": [
       "Index(['driverId', 'truckId', 'eventTime', 'eventType', 'longitude',\n",
       "       'latitude', 'eventKey', 'CorrelationId', 'driverName', 'routeId',\n",
       "       'routeName', 'eventDate'],\n",
       "      dtype='object')"
      ]
     },
     "execution_count": 3,
     "metadata": {},
     "output_type": "execute_result"
    }
   ],
   "source": [
    "#get columns names\n",
    "trucks_events.columns"
   ]
  },
  {
   "cell_type": "code",
   "execution_count": 8,
   "id": "ec79aec4",
   "metadata": {},
   "outputs": [
    {
     "data": {
      "application/vnd.microsoft.datawrangler.viewer.v0+json": {
       "columns": [
        {
         "name": "index",
         "rawType": "int64",
         "type": "integer"
        },
        {
         "name": "driverId",
         "rawType": "int64",
         "type": "integer"
        },
        {
         "name": "eventTime",
         "rawType": "object",
         "type": "string"
        },
        {
         "name": "eventType",
         "rawType": "object",
         "type": "string"
        }
       ],
       "ref": "890adb7d-7a55-4b38-bc10-f1d2ccae2b53",
       "rows": [
        [
         "0",
         "14",
         "59:21.4",
         "Normal"
        ],
        [
         "1",
         "18",
         "59:21.7",
         "Normal"
        ],
        [
         "2",
         "27",
         "59:21.7",
         "Normal"
        ],
        [
         "3",
         "11",
         "59:21.7",
         "Normal"
        ],
        [
         "4",
         "22",
         "59:21.7",
         "Normal"
        ],
        [
         "5",
         "22",
         "59:22.3",
         "Normal"
        ],
        [
         "6",
         "23",
         "59:22.4",
         "Normal"
        ],
        [
         "7",
         "11",
         "59:22.5",
         "Normal"
        ],
        [
         "8",
         "20",
         "59:22.5",
         "Normal"
        ],
        [
         "9",
         "32",
         "59:22.5",
         "Normal"
        ],
        [
         "10",
         "27",
         "59:22.6",
         "Normal"
        ]
       ],
       "shape": {
        "columns": 3,
        "rows": 11
       }
      },
      "text/plain": [
       "    driverId eventTime eventType\n",
       "0         14   59:21.4    Normal\n",
       "1         18   59:21.7    Normal\n",
       "2         27   59:21.7    Normal\n",
       "3         11   59:21.7    Normal\n",
       "4         22   59:21.7    Normal\n",
       "5         22   59:22.3    Normal\n",
       "6         23   59:22.4    Normal\n",
       "7         11   59:22.5    Normal\n",
       "8         20   59:22.5    Normal\n",
       "9         32   59:22.5    Normal\n",
       "10        27   59:22.6    Normal"
      ]
     },
     "execution_count": 8,
     "metadata": {},
     "output_type": "execute_result"
    }
   ],
   "source": [
    "#//loc retrieves the names of the rows so if is a range is <=upperlimit\n",
    "specific_columns=trucks_events.loc[:10,['driverId','eventTime','eventType']]#same as \n",
    "#specific_columns=trucks_events.iloc[:10,[0,2,3]]\n",
    "specific_columns"
   ]
  },
  {
   "cell_type": "code",
   "execution_count": null,
   "id": "b52defd2",
   "metadata": {},
   "outputs": [
    {
     "data": {
      "application/vnd.microsoft.datawrangler.viewer.v0+json": {
       "columns": [
        {
         "name": "index",
         "rawType": "object",
         "type": "string"
        },
        {
         "name": "1",
         "rawType": "object",
         "type": "unknown"
        }
       ],
       "ref": "684c4dcb-a9d1-4aec-aa2c-add3a5549eb4",
       "rows": [
        [
         "driverId",
         "18"
        ],
        [
         "truckId",
         "16"
        ],
        [
         "eventTime",
         "59:21.7"
        ],
        [
         "eventType",
         "Normal"
        ],
        [
         "longitude",
         "-89.66"
        ],
        [
         "latitude",
         "39.78"
        ],
        [
         "eventKey",
         "18|16|9223370572464814089"
        ],
        [
         "CorrelationId",
         "3.66e+18"
        ],
        [
         "driverName",
         "Grant Liu"
        ],
        [
         "routeId",
         "1565885487"
        ],
        [
         "routeName",
         "Springfield to KC Via Hanibal"
        ],
        [
         "eventDate",
         "2016-05-27-22"
        ]
       ],
       "shape": {
        "columns": 1,
        "rows": 12
       }
      },
      "text/plain": [
       "driverId                                    18\n",
       "truckId                                     16\n",
       "eventTime                              59:21.7\n",
       "eventType                               Normal\n",
       "longitude                               -89.66\n",
       "latitude                                 39.78\n",
       "eventKey             18|16|9223370572464814089\n",
       "CorrelationId            3660000000000000000.0\n",
       "driverName                           Grant Liu\n",
       "routeId                             1565885487\n",
       "routeName        Springfield to KC Via Hanibal\n",
       "eventDate                        2016-05-27-22\n",
       "Name: 1, dtype: object"
      ]
     },
     "execution_count": 7,
     "metadata": {},
     "output_type": "execute_result"
    }
   ],
   "source": [
    "#//retrieve a particular row for inspection\n",
    "trucks_events.iloc[1]"
   ]
  },
  {
   "cell_type": "code",
   "execution_count": 9,
   "id": "2f3d2e0e",
   "metadata": {},
   "outputs": [],
   "source": [
    "#save as csv \n",
    "import os\n",
    "if not os.path.exists(\"../files/output/\"):\n",
    "    os.makedirs(\"../files/output/\")\n",
    "\n",
    "specific_columns.to_csv(\"../files/output/specific-columns.csv\",\n",
    "                        sep=\",\",\n",
    "                        header=False,\n",
    "                        index=False)"
   ]
  },
  {
   "cell_type": "code",
   "execution_count": null,
   "id": "51524413",
   "metadata": {},
   "outputs": [],
   "source": []
  }
 ],
 "metadata": {
  "kernelspec": {
   "display_name": ".venv",
   "language": "python",
   "name": "python3"
  },
  "language_info": {
   "codemirror_mode": {
    "name": "ipython",
    "version": 3
   },
   "file_extension": ".py",
   "mimetype": "text/x-python",
   "name": "python",
   "nbconvert_exporter": "python",
   "pygments_lexer": "ipython3",
   "version": "3.11.3"
  }
 },
 "nbformat": 4,
 "nbformat_minor": 5
}
